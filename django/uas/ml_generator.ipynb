{
 "cells": [
  {
   "cell_type": "code",
   "execution_count": 2,
   "metadata": {},
   "outputs": [],
   "source": [
    "import numpy as np"
   ]
  },
  {
   "cell_type": "code",
   "execution_count": 3,
   "metadata": {},
   "outputs": [],
   "source": [
    "def generate_array(start, stop):\n",
    "    values = np.linspace(start, stop, 10)\n",
    "    variance = 0.1 * values\n",
    "    values += np.round(np.random.uniform(low=-variance, high=variance, size=10),3)\n",
    "    print(\"[\",\", \".join(str(x) for x in values),\"]\",end=\"\")"
   ]
  },
  {
   "cell_type": "code",
   "execution_count": 4,
   "metadata": {},
   "outputs": [
    {
     "name": "stdout",
     "output_type": "stream",
     "text": [
      "X = np.array([\n",
      "[ 98.408, 92.86788888888888, 79.70577777777777, 65.05966666666667, 57.95055555555556, 41.78344444444444, 36.50733333333334, 23.74522222222223, 10.028111111111114, 0.0 ],\n",
      "[ -9.641, -3.403333333333333, 3.332333333333334, 9.745, 17.79266666666667, 25.404333333333337, 27.362000000000002, 38.759666666666675, 46.09733333333334, 48.832 ],\n",
      "[ 0.0, 108.53211111111112, 219.16522222222224, 301.9363333333334, 466.36944444444447, 585.9635555555556, 686.6786666666667, 838.9557777777778, 833.987888888889, 935.085 ]\n",
      "])\n",
      "X = np.transpose(X)\n",
      "y = np.array([ 1072.714, 1275.4922222222222, 1585.4374444444443, 1746.5626666666667, 1765.014888888889, 2257.532111111111, 2375.3313333333335, 2343.6575555555555, 2955.6987777777777, 2777.141 ])\n",
      "\n",
      "\n"
     ]
    }
   ],
   "source": [
    "x = [0,100,-10,50,0,1000,1000,3000]\n",
    "\n",
    "print(\"X = np.array([\")\n",
    "generate_array(x[1],x[0])\n",
    "print(\",\")\n",
    "generate_array(x[2],x[3])\n",
    "print(\",\")\n",
    "generate_array(x[4],x[5])\n",
    "print(\"\\n])\")\n",
    "print(\"X = np.transpose(X)\")\n",
    "print(\"y = np.array(\", end=\"\")\n",
    "generate_array(x[6],x[7])\n",
    "print(\")\")\n",
    "print(\"\\n\")"
   ]
  },
  {
   "cell_type": "code",
   "execution_count": null,
   "metadata": {},
   "outputs": [],
   "source": []
  }
 ],
 "metadata": {
  "kernelspec": {
   "display_name": "Python 3",
   "language": "python",
   "name": "python3"
  },
  "language_info": {
   "codemirror_mode": {
    "name": "ipython",
    "version": 3
   },
   "file_extension": ".py",
   "mimetype": "text/x-python",
   "name": "python",
   "nbconvert_exporter": "python",
   "pygments_lexer": "ipython3",
   "version": "3.11.3"
  },
  "orig_nbformat": 4
 },
 "nbformat": 4,
 "nbformat_minor": 2
}
